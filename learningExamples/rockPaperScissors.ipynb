# -*- coding: utf-8 -*-
"""
Created on Thu Jan 12 00:23:46 2023

@author: calic
"""

import random

def get_choices():
    player_choice = input("Enter a choice(rock, paper, scissors: ")
    options = ["rock", "paper", "scissors"]
    computer_choice = random.choice(options)
    choices = {"player": player_choice, "computer": computer_choice}
    return choices

print(get_choices())
